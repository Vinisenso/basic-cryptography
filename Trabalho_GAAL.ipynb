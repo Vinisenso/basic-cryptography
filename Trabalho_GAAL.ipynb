{
  "nbformat": 4,
  "nbformat_minor": 0,
  "metadata": {
    "colab": {
      "provenance": [],
      "include_colab_link": true
    },
    "kernelspec": {
      "name": "python3",
      "display_name": "Python 3"
    }
  },
  "cells": [
    {
      "cell_type": "markdown",
      "metadata": {
        "id": "view-in-github",
        "colab_type": "text"
      },
      "source": [
        "<a href=\"https://colab.research.google.com/github/Vinisenso/basic-cryptography/blob/main/Trabalho_GAAL.ipynb\" target=\"_parent\"><img src=\"https://colab.research.google.com/assets/colab-badge.svg\" alt=\"Open In Colab\"/></a>"
      ]
    },
    {
      "cell_type": "code",
      "metadata": {
        "id": "98jbz_8rMFJW"
      },
      "source": [
        "# Grupo Gaal\n",
        "# Flávio Campedelli Neto RA: 234559\n",
        "# Leonardo Bortolucci RA: 177753\n",
        "# Ricardo Cezar Ianaconi Camargo RA: 187800\n",
        "# Vinícius Consentino Muniz RA: 245271"
      ],
      "execution_count": null,
      "outputs": []
    },
    {
      "cell_type": "code",
      "metadata": {
        "id": "RjHXnFsDHrPk"
      },
      "source": [
        "#Codificador de mensagens\n",
        " \n",
        "import numpy as np\n",
        " \n",
        "texto =  input('Digite sua mensagem: ') # O usuário digita o texto que deseja codificar\n",
        " \n",
        "Nmr = len(texto) # Quantos caracteres o texto digitado possui.\n",
        " \n",
        "if Nmr%3 == 1:\n",
        "    texto = texto + '  '\n",
        "if Nmr%3 == 2:\n",
        "    texto = texto + ' ' # Tratamento do texto para que ele possua um número de caracteres múltiplo de 3.\n",
        "    \n",
        "Nmr2 = len(texto)\n",
        " \n",
        "seq = [] # Lista vazia que será preenchida \n",
        " \n",
        "for elemento in texto:\n",
        "    if elemento == ' ': # os espaços no texto serão convertidos para o número 0\n",
        "        numero = 0\n",
        "    else:\n",
        "        numero = ord(elemento) - 96 # as letras no texto serão convertidas para números de acordo com a tabela \n",
        "    \n",
        "    seq.append(numero) # formará um lista com os números referentes ao texto\n",
        "  \n",
        "matrizChar = [seq[i:i+3] for i in range (0,len(texto),3)] # cria-se uma matriz  com 3 colunas com os elementos da lista\n",
        " \n",
        " \n",
        "M1 = np.array(matrizChar)# cria-se uma matriz  com 3 colunas com os elementos da lista\n",
        " \n",
        " \n",
        "M2 = np.array(([1, -2, 2], [-1, 1, 3], [1, -1, -4])) #matriz codificadora \n",
        " \n",
        " \n",
        "M3 = np.matmul(M1, M2) # multiplicação de matrízes para codificar\n",
        " \n",
        " \n",
        "linR = int(Nmr2/3) # Utilizado para saber o número de linhas da matriz\n",
        " \n",
        "lista = [] # lista vazia para ser preenchida com os números resultantes da codificação\n",
        "for i in range(linR):\n",
        "    for j in range(3):\n",
        "        lista.append(M3[i][j])\n",
        "\n",
        " \n",
        "print()\n",
        "print('Mensagem codificada: ', end='')\n",
        "for i in range (len(lista)): # retirar as vírgulas \n",
        "    print(lista[i], end=' ')"
      ],
      "execution_count": null,
      "outputs": []
    },
    {
      "cell_type": "code",
      "metadata": {
        "id": "Z_sACuS1COGW",
        "colab": {
          "base_uri": "https://localhost:8080/"
        },
        "outputId": "8b91bbc5-b758-4e16-926c-546759e6fc55"
      },
      "source": [
        "#Decodificador de mensagem\n",
        " \n",
        "import numpy as np\n",
        " \n",
        "texto = input('Digite seu código: ') #O usuário digita a mensagem a ser decodificada \n",
        " \n",
        "seq = texto.split(' ') # quebra-se o texto adicionando espaços\n",
        " \n",
        " \n",
        "valores = [] # lista a ser preenchida com os valores\n",
        "for val in seq:\n",
        "  valores.append(int(val))\n",
        "\n",
        " \n",
        "matrizChar = [valores[i:i+3] for i in range (0,len(valores),3)]\n",
        " \n",
        "M1 = np.array(matrizChar) #cria-se uma matriz com os valores obtidos \n",
        " \n",
        " \n",
        "M2 = np.array(([-1, -10, -8], [-1, -6, -5], [0, -1, -1])) #matriz decodificadora, que é a inversa da matriz codificadora \n",
        " \n",
        " \n",
        "M3 = np.matmul(M1, M2) # multiplicação de codificação\n",
        " \n",
        "Nmr = len(matrizChar) #números de caracteres da matriz\n",
        " \n",
        "lista = []\n",
        "for i in range(Nmr):\n",
        "    for j in range(3):\n",
        "        lista.append(M3[i][j]) #criação de uma lista com os valores decodificados\n",
        "\n",
        " \n",
        "frase1 = []\n",
        "for elemento in lista: \n",
        "    if elemento == 0:\n",
        "        letra = ' ' # conversão do número 0 obtido na matriz para um espaço na mensagem final\n",
        "    else:\n",
        "        letra = chr(elemento + 96) # conversão dos números em letras na mensagem final\n",
        "      \n",
        "    frase1.append(letra) # inserção das letra em uma lista\n",
        " \n",
        " \n",
        "Resp = ''.join(frase1) # junta-se as letras para formar a mensagem final.\n",
        "print()\n",
        "print(f'A sua mensagem decoficada é: {Resp}')"
      ],
      "execution_count": null,
      "outputs": [
        {
          "output_type": "stream",
          "text": [
            "Digite seu código: 6 -21 57 -33 85 -180 -6 -9 93 27 -49 15 15 -24 -9 2 -23 99\n",
            "\n",
            "A sua mensagem decoficada é: oi , sou vinicius \n"
          ],
          "name": "stdout"
        }
      ]
    },
    {
      "cell_type": "code",
      "metadata": {
        "id": "i5C_F-saxJEy",
        "colab": {
          "base_uri": "https://localhost:8080/"
        },
        "outputId": "66e83e20-c002-4d1e-9417-a841976a24f3"
      },
      "source": [
        "x=[0+(0.2*i) for i in range(0,50)]\n",
        "x"
      ],
      "execution_count": null,
      "outputs": [
        {
          "output_type": "execute_result",
          "data": {
            "text/plain": [
              "[0.0,\n",
              " 0.2,\n",
              " 0.4,\n",
              " 0.6000000000000001,\n",
              " 0.8,\n",
              " 1.0,\n",
              " 1.2000000000000002,\n",
              " 1.4000000000000001,\n",
              " 1.6,\n",
              " 1.8,\n",
              " 2.0,\n",
              " 2.2,\n",
              " 2.4000000000000004,\n",
              " 2.6,\n",
              " 2.8000000000000003,\n",
              " 3.0,\n",
              " 3.2,\n",
              " 3.4000000000000004,\n",
              " 3.6,\n",
              " 3.8000000000000003,\n",
              " 4.0,\n",
              " 4.2,\n",
              " 4.4,\n",
              " 4.6000000000000005,\n",
              " 4.800000000000001,\n",
              " 5.0,\n",
              " 5.2,\n",
              " 5.4,\n",
              " 5.6000000000000005,\n",
              " 5.800000000000001,\n",
              " 6.0,\n",
              " 6.2,\n",
              " 6.4,\n",
              " 6.6000000000000005,\n",
              " 6.800000000000001,\n",
              " 7.0,\n",
              " 7.2,\n",
              " 7.4,\n",
              " 7.6000000000000005,\n",
              " 7.800000000000001,\n",
              " 8.0,\n",
              " 8.200000000000001,\n",
              " 8.4,\n",
              " 8.6,\n",
              " 8.8,\n",
              " 9.0,\n",
              " 9.200000000000001,\n",
              " 9.4,\n",
              " 9.600000000000001,\n",
              " 9.8]"
            ]
          },
          "metadata": {},
          "execution_count": 9
        }
      ]
    },
    {
      "cell_type": "code",
      "metadata": {
        "id": "JvV-LUZVxF5a"
      },
      "source": [],
      "execution_count": null,
      "outputs": []
    },
    {
      "cell_type": "code",
      "metadata": {
        "id": "eNz3wk8HnPOp"
      },
      "source": [],
      "execution_count": null,
      "outputs": []
    }
  ]
}